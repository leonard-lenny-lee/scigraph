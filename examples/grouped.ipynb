{
 "cells": [
  {
   "cell_type": "code",
   "execution_count": 1,
   "metadata": {},
   "outputs": [
    {
     "data": {
      "text/plain": [
       "            Control             Treated            \n",
       "                  1     2     3       1     2     3\n",
       "Wild type      23.0  21.0  19.0    67.0  79.0  98.0\n",
       "Knock-out A    24.0  23.0   NaN    29.0  31.0  32.0\n",
       "Knock-out B    21.0  25.0  27.0    65.0  69.0  71.0"
      ]
     },
     "execution_count": 1,
     "metadata": {},
     "output_type": "execute_result"
    }
   ],
   "source": [
    "from scigraph.datatables import GroupedTable\n",
    "\n",
    "data = [\n",
    "    [23, 21, 19, 67, 79, 98],\n",
    "    [24, 23, None, 29, 31, 32],\n",
    "    [21, 25, 27, 65, 69, 71],\n",
    "]\n",
    "\n",
    "groups = [\"Control\", \"Treated\"]\n",
    "rows = [\"Wild type\", \"Knock-out A\", \"Knock-out B\"]\n",
    "\n",
    "table = GroupedTable(data, 3, 2, groups, rows)\n",
    "table"
   ]
  },
  {
   "cell_type": "code",
   "execution_count": null,
   "metadata": {},
   "outputs": [],
   "source": []
  }
 ],
 "metadata": {
  "kernelspec": {
   "display_name": "venv",
   "language": "python",
   "name": "python3"
  },
  "language_info": {
   "codemirror_mode": {
    "name": "ipython",
    "version": 3
   },
   "file_extension": ".py",
   "mimetype": "text/x-python",
   "name": "python",
   "nbconvert_exporter": "python",
   "pygments_lexer": "ipython3",
   "version": "3.12.2"
  }
 },
 "nbformat": 4,
 "nbformat_minor": 2
}
