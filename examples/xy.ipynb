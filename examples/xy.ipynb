{
 "cells": [
  {
   "cell_type": "code",
   "execution_count": 1,
   "metadata": {},
   "outputs": [
    {
     "data": {
      "text/plain": [
       "  Hours Control               Treated            \n",
       "      1       1      2      3       1     2     3\n",
       "0   0.0    45.0   34.0    NaN    34.0  31.0  29.0\n",
       "1   6.0    56.0   58.0   61.0    41.0  43.0  42.0\n",
       "2  12.0    76.0   72.0   77.0    52.0  55.0  55.0\n",
       "3  24.0    81.0   95.0   83.0    63.0  63.0   NaN\n",
       "4  48.0    99.0  100.0  104.0    72.0  67.0  81.0\n",
       "5  72.0    97.0  110.0  115.0    78.0  87.0   NaN"
      ]
     },
     "execution_count": 1,
     "metadata": {},
     "output_type": "execute_result"
    }
   ],
   "source": [
    "from scigraph.datatables import XYTable\n",
    "\n",
    "\n",
    "values = [\n",
    "    [0,  45, 34, None, 34, 31, 29  ],\n",
    "    [6,  56, 58, 61,   41, 43, 42  ],\n",
    "    [12, 76, 72, 77,   52, 55, 55  ],\n",
    "    [24, 81, 95, 83,   63, 63, None],\n",
    "    [48, 99, 100, 104, 72, 67, 81  ],\n",
    "    [72, 97, 110, 115, 78, 87, None],\n",
    "]\n",
    "\n",
    "table = XYTable(\n",
    "    values,\n",
    "    n_x_replicates=1,\n",
    "    n_y_replicates=3,\n",
    "    n_datasets=2,\n",
    "    dataset_names=[\"Control\", \"Treated\"]\n",
    ")\n",
    "\n",
    "table.x_title = \"Hours\"\n",
    "table.y_title = \"Response, %\"\n",
    "table"
   ]
  },
  {
   "cell_type": "code",
   "execution_count": 2,
   "metadata": {},
   "outputs": [
    {
     "name": "stderr",
     "output_type": "stream",
     "text": [
      "/Users/leonardlee/Projects/scigraph/scigraph/analyses/_curve_fit.py:267: RuntimeWarning: overflow encountered in exp\n",
      "  return (y0 - plateau) * np.exp(-k * x) + plateau\n"
     ]
    },
    {
     "data": {
      "text/html": [
       "<div>\n",
       "<style scoped>\n",
       "    .dataframe tbody tr th:only-of-type {\n",
       "        vertical-align: middle;\n",
       "    }\n",
       "\n",
       "    .dataframe tbody tr th {\n",
       "        vertical-align: top;\n",
       "    }\n",
       "\n",
       "    .dataframe thead th {\n",
       "        text-align: right;\n",
       "    }\n",
       "</style>\n",
       "<table border=\"1\" class=\"dataframe\">\n",
       "  <thead>\n",
       "    <tr style=\"text-align: right;\">\n",
       "      <th></th>\n",
       "      <th></th>\n",
       "      <th>Control</th>\n",
       "      <th>Treated</th>\n",
       "    </tr>\n",
       "  </thead>\n",
       "  <tbody>\n",
       "    <tr>\n",
       "      <th rowspan=\"3\" valign=\"top\">Best Fit Params</th>\n",
       "      <th>y0</th>\n",
       "      <td>40.440467</td>\n",
       "      <td>31.711820</td>\n",
       "    </tr>\n",
       "    <tr>\n",
       "      <th>plateau</th>\n",
       "      <td>107.372119</td>\n",
       "      <td>82.708865</td>\n",
       "    </tr>\n",
       "    <tr>\n",
       "      <th>k</th>\n",
       "      <td>0.053089</td>\n",
       "      <td>0.041156</td>\n",
       "    </tr>\n",
       "    <tr>\n",
       "      <th rowspan=\"3\" valign=\"top\">CI 95%</th>\n",
       "      <th>y0</th>\n",
       "      <td>7.538266</td>\n",
       "      <td>4.531132</td>\n",
       "    </tr>\n",
       "    <tr>\n",
       "      <th>plateau</th>\n",
       "      <td>7.276800</td>\n",
       "      <td>7.931243</td>\n",
       "    </tr>\n",
       "    <tr>\n",
       "      <th>k</th>\n",
       "      <td>0.019291</td>\n",
       "      <td>0.017696</td>\n",
       "    </tr>\n",
       "    <tr>\n",
       "      <th rowspan=\"5\" valign=\"top\">Goodness of Fit</th>\n",
       "      <th>dof</th>\n",
       "      <td>14.000000</td>\n",
       "      <td>13.000000</td>\n",
       "    </tr>\n",
       "    <tr>\n",
       "      <th>r2</th>\n",
       "      <td>0.949729</td>\n",
       "      <td>0.957781</td>\n",
       "    </tr>\n",
       "    <tr>\n",
       "      <th>rss</th>\n",
       "      <td>444.221600</td>\n",
       "      <td>210.693407</td>\n",
       "    </tr>\n",
       "    <tr>\n",
       "      <th>sy_x</th>\n",
       "      <td>5.632949</td>\n",
       "      <td>4.025815</td>\n",
       "    </tr>\n",
       "    <tr>\n",
       "      <th>n</th>\n",
       "      <td>17.000000</td>\n",
       "      <td>16.000000</td>\n",
       "    </tr>\n",
       "  </tbody>\n",
       "</table>\n",
       "</div>"
      ],
      "text/plain": [
       "                            Control     Treated\n",
       "Best Fit Params y0        40.440467   31.711820\n",
       "                plateau  107.372119   82.708865\n",
       "                k          0.053089    0.041156\n",
       "CI 95%          y0         7.538266    4.531132\n",
       "                plateau    7.276800    7.931243\n",
       "                k          0.019291    0.017696\n",
       "Goodness of Fit dof       14.000000   13.000000\n",
       "                r2         0.949729    0.957781\n",
       "                rss      444.221600  210.693407\n",
       "                sy_x       5.632949    4.025815\n",
       "                n         17.000000   16.000000"
      ]
     },
     "execution_count": 2,
     "metadata": {},
     "output_type": "execute_result"
    }
   ],
   "source": [
    "from scigraph.analyses._curve_fit import OnePhaseDecay\n",
    "\n",
    "cf = OnePhaseDecay(table)\n",
    "cf.analyze()"
   ]
  },
  {
   "cell_type": "code",
   "execution_count": 3,
   "metadata": {},
   "outputs": [
    {
     "data": {
      "text/plain": [
       "(0.0, 120.0)"
      ]
     },
     "execution_count": 3,
     "metadata": {},
     "output_type": "execute_result"
    },
    {
     "data": {
      "image/png": "[encoded data removed]",
      "text/plain": [
       "<Figure size 495x375 with 1 Axes>"
      ]
     },
     "metadata": {},
     "output_type": "display_data"
    }
   ],
   "source": [
    "graph = table.create_xy_graph() \\\n",
    "    .add_points(\"mean\") \\\n",
    "    .add_errorbars(\"sd\") \\\n",
    "    .link_analysis(cf)\n",
    "\n",
    "ax = graph.draw()\n",
    "ax.set_xlim(0, 80)\n",
    "ax.set_ylim(0, 120)"
   ]
  }
 ],
 "metadata": {
  "kernelspec": {
   "display_name": "venv",
   "language": "python",
   "name": "python3"
  },
  "language_info": {
   "codemirror_mode": {
    "name": "ipython",
    "version": 3
   },
   "file_extension": ".py",
   "mimetype": "text/x-python",
   "name": "python",
   "nbconvert_exporter": "python",
   "pygments_lexer": "ipython3",
   "version": "3.12.2"
  }
 },
 "nbformat": 4,
 "nbformat_minor": 2
}
